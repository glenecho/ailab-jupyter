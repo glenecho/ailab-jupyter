{
 "cells": [
  {
   "cell_type": "code",
   "execution_count": 3,
   "metadata": {},
   "outputs": [
    {
     "ename": "ModuleNotFoundError",
     "evalue": "No module named 'chattts'",
     "output_type": "error",
     "traceback": [
      "\u001b[1;31m---------------------------------------------------------------------------\u001b[0m",
      "\u001b[1;31mModuleNotFoundError\u001b[0m                       Traceback (most recent call last)",
      "Cell \u001b[1;32mIn[3], line 1\u001b[0m\n\u001b[1;32m----> 1\u001b[0m \u001b[38;5;28;01mfrom\u001b[39;00m \u001b[38;5;21;01mchattts\u001b[39;00m \u001b[38;5;28;01mimport\u001b[39;00m ChatTTS\n\u001b[0;32m      3\u001b[0m \u001b[38;5;66;03m# Create an instance of the ChatTTS class\u001b[39;00m\n\u001b[0;32m      4\u001b[0m chat_tts \u001b[38;5;241m=\u001b[39m ChatTTS()\n",
      "\u001b[1;31mModuleNotFoundError\u001b[0m: No module named 'chattts'"
     ]
    }
   ],
   "source": [
    "from ChatTTS import ChatTTS\n",
    "\n",
    "# Create an instance of the ChatTTS class\n",
    "chat_tts = ChatTTS()\n",
    "\n",
    "# Set the text you want to convert to speech\n",
    "text = \"Hello, how are you?\"\n",
    "\n",
    "# Generate the speech audio file\n",
    "audio_file = chat_tts.generate_speech(text)\n",
    "\n",
    "# Play the speech audio file\n",
    "chat_tts.play_audio(audio_file)"
   ]
  }
 ],
 "metadata": {
  "kernelspec": {
   "display_name": "venv",
   "language": "python",
   "name": "python3"
  },
  "language_info": {
   "codemirror_mode": {
    "name": "ipython",
    "version": 3
   },
   "file_extension": ".py",
   "mimetype": "text/x-python",
   "name": "python",
   "nbconvert_exporter": "python",
   "pygments_lexer": "ipython3",
   "version": "3.11.5"
  }
 },
 "nbformat": 4,
 "nbformat_minor": 2
}
